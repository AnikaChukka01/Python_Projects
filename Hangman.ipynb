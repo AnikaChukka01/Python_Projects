{
  "nbformat": 4,
  "nbformat_minor": 0,
  "metadata": {
    "colab": {
      "provenance": [],
      "authorship_tag": "ABX9TyN6V0YPKUhmTdxWDSPp2MOE",
      "include_colab_link": true
    },
    "kernelspec": {
      "name": "python3",
      "display_name": "Python 3"
    },
    "language_info": {
      "name": "python"
    }
  },
  "cells": [
    {
      "cell_type": "markdown",
      "metadata": {
        "id": "view-in-github",
        "colab_type": "text"
      },
      "source": [
        "<a href=\"https://colab.research.google.com/github/AnikaChukka01/Python_Projects/blob/main/Hangman.ipynb\" target=\"_parent\"><img src=\"https://colab.research.google.com/assets/colab-badge.svg\" alt=\"Open In Colab\"/></a>"
      ]
    },
    {
      "cell_type": "code",
      "execution_count": null,
      "metadata": {
        "colab": {
          "base_uri": "https://localhost:8080/"
        },
        "id": "xv2th4kgw4JS",
        "outputId": "b0a7298a-ebca-4e00-a11f-c44917a187fb"
      },
      "outputs": [
        {
          "output_type": "stream",
          "name": "stdout",
          "text": [
            "guess a letter: a\n",
            "You have 5 number of lives left\n",
            "['_', '_', '_', '_', 'a', '_']\n",
            "\n",
            "  +---+\n",
            "  |   |\n",
            "  O   |\n",
            "      |\n",
            "      |\n",
            "      |\n",
            "=========\n",
            "\n",
            "guess a letter: t\n",
            "You have 4 number of lives left\n",
            "['_', '_', '_', '_', 'a', '_']\n",
            "\n",
            "  +---+\n",
            "  |   |\n",
            "  O   |\n",
            "  |   |\n",
            "      |\n",
            "      |\n",
            "=========\n",
            "\n",
            "guess a letter: u\n",
            "You have 3 number of lives left\n",
            "['_', '_', '_', '_', 'a', '_']\n",
            "\n",
            "  +---+\n",
            "  |   |\n",
            "  O   |\n",
            " /|   |\n",
            "      |\n",
            "      |\n",
            "=========\n",
            "guess a letter: r\n",
            "You have 2 number of lives left\n",
            "['_', '_', '_', '_', 'a', '_']\n",
            "\n",
            "  +---+\n",
            "  |   |\n",
            "  O   |\n",
            " /|\\  |\n",
            "      |\n",
            "      |\n",
            "=========\n",
            "\n",
            "guess a letter: y\n",
            "You have 1 number of lives left\n",
            "['_', '_', '_', '_', 'a', '_']\n",
            "\n",
            "  +---+\n",
            "  |   |\n",
            "  O   |\n",
            " /|\\  |\n",
            " /    |\n",
            "      |\n",
            "=========\n",
            "\n",
            "guess a letter: u\n",
            "You have 0 number of lives left\n",
            "['_', '_', '_', '_', 'a', '_']\n",
            "You Lose\n",
            "The word is: jigsaw\n",
            "\n",
            "  +---+\n",
            "  |   |\n",
            "  O   |\n",
            " /|\\  |\n",
            " / \\  |\n",
            "      |\n",
            "=========\n",
            "\n"
          ]
        }
      ],
      "source": [
        "import hangman_words\n",
        "import random\n",
        "import hangman_art\n",
        "chosen_word=random.choice(hangman_words.word_list)\n",
        "y=[\"_\"]*len(chosen_word)\n",
        "lives=6\n",
        "end=False\n",
        "while not end:\n",
        "  while lives!=0:\n",
        "    guess=input(\"guess a letter: \")\n",
        "    guessed=guess.lower()\n",
        "    for i in range(len(chosen_word)):\n",
        "      if chosen_word[i]==guessed:\n",
        "          y[i]=chosen_word[i]\n",
        "    lives=lives-1\n",
        "    liv=str(lives)\n",
        "    print(\"You have \"+liv+\" number of lives left\")\n",
        "    print(y)\n",
        "    if \"_\" not in y:\n",
        "      end=True\n",
        "      print(\"You won!\")\n",
        "    if lives==0:\n",
        "      print(\"You Lose\")\n",
        "      print(\"The word is: \"+chosen_word)\n",
        "    print(hangman_art.stages[lives])"
      ]
    }
  ]
}